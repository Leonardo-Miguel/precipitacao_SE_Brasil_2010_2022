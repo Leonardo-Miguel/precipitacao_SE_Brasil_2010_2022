{
 "cells": [
  {
   "cell_type": "code",
   "execution_count": 6,
   "metadata": {},
   "outputs": [],
   "source": [
    "import pandas as pd"
   ]
  },
  {
   "cell_type": "markdown",
   "metadata": {},
   "source": [
    "### Filtering stations with no id registered in info_stations file\n",
    "\n",
    "* Ao linkar o banco de dados à tabela contendo as informações das estações (através do ID, como chave primária e estrangeira), isso no postgrSQL, foi verificado que algumas estações presentes no banco não estão registradas na tabela das estações. Essas serão filtradas comparando-se as duas tabelas e não inclusas no banco de dados final armazenado."
   ]
  },
  {
   "cell_type": "code",
   "execution_count": 7,
   "metadata": {},
   "outputs": [
    {
     "name": "stdout",
     "output_type": "stream",
     "text": [
      "Número de estações registradas: 566\n",
      "Número de estações no banco total: 615\n"
     ]
    }
   ],
   "source": [
    "stations_file = 'info_stations/station_info_preprocessed.csv'\n",
    "info_station = pd.read_csv(stations_file)\n",
    "\n",
    "# Obtenção dos valores únicos, pelos ids\n",
    "registered_stations = info_station['cd_estacao'].unique()\n",
    "print(f'Número de estações registradas: {registered_stations.size}')\n",
    "\n",
    "data_file = 'data_stations/preprocessed_data/all_stations.csv'\n",
    "data = pd.read_csv(data_file)\n",
    "data_stations = data['id_estacao'].unique()\n",
    "print(f'Número de estações no banco total: {data_stations.size}')\n",
    "\n",
    "# Filtragem apenas das estações com id na tabela info_station\n",
    "data_filtered = data[data['id_estacao'].isin(registered_stations)]\n",
    "\n",
    "dataset_name = 'filtered_stations.csv'\n",
    "data_filtered.to_csv(f'data_stations/preprocessed_data/{dataset_name}', index=False)\n"
   ]
  }
 ],
 "metadata": {
  "kernelspec": {
   "display_name": "base",
   "language": "python",
   "name": "python3"
  },
  "language_info": {
   "codemirror_mode": {
    "name": "ipython",
    "version": 3
   },
   "file_extension": ".py",
   "mimetype": "text/x-python",
   "name": "python",
   "nbconvert_exporter": "python",
   "pygments_lexer": "ipython3",
   "version": "3.10.13"
  }
 },
 "nbformat": 4,
 "nbformat_minor": 2
}
