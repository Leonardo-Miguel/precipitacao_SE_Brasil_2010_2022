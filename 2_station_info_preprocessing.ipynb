{
 "cells": [
  {
   "cell_type": "markdown",
   "metadata": {},
   "source": [
    "### Module importation"
   ]
  },
  {
   "cell_type": "code",
   "execution_count": 1,
   "metadata": {},
   "outputs": [],
   "source": [
    "import pandas as pd\n",
    "import glob\n",
    "import os\n",
    "import psycopg2\n",
    "from psycopg2 import sql\n",
    "from pathlib import Path\n",
    "import chardet\n",
    "import datetime as dt\n",
    "import numpy as np"
   ]
  },
  {
   "cell_type": "markdown",
   "metadata": {},
   "source": [
    "### Encoding verification"
   ]
  },
  {
   "cell_type": "code",
   "execution_count": 2,
   "metadata": {},
   "outputs": [
    {
     "name": "stdout",
     "output_type": "stream",
     "text": [
      "Encoding: ascii\n"
     ]
    }
   ],
   "source": [
    "file = 'info_stations/CatalogoEstaçõesAutomáticas.csv'\n",
    "\n",
    "def encoding_detection(file):\n",
    "    with open(file, 'rb') as f:\n",
    "        result = chardet.detect(f.read())\n",
    "        return result['encoding']\n",
    "\n",
    "encodig = encoding_detection(file)\n",
    "\n",
    "print(f'Encoding: {encodig}')\n"
   ]
  },
  {
   "cell_type": "markdown",
   "metadata": {},
   "source": [
    "### Preprocessing"
   ]
  },
  {
   "cell_type": "code",
   "execution_count": 3,
   "metadata": {},
   "outputs": [
    {
     "name": "stdout",
     "output_type": "stream",
     "text": [
      "Original columns types:\n",
      "dc_nome               object\n",
      "sg_estado             object\n",
      "cd_situacao           object\n",
      "vl_latitude           object\n",
      "vl_longitude          object\n",
      "vl_altitude           object\n",
      "dt_inicio_operacao    object\n",
      "cd_estacao            object\n",
      "dtype: object\n",
      "\n",
      "Post processed columns types:\n",
      "dc_nome                       object\n",
      "sg_estado                     object\n",
      "cd_situacao                   object\n",
      "vl_latitude                  float64\n",
      "vl_longitude                 float64\n",
      "vl_altitude                  float64\n",
      "dt_inicio_operacao    datetime64[ns]\n",
      "cd_estacao                    object\n",
      "dtype: object\n"
     ]
    }
   ],
   "source": [
    "cols_to_use = list(range(19))\n",
    "rows_to_skip = list(range(9))\n",
    "\n",
    "file_name = file\n",
    "    \n",
    "data = pd.read_csv(file, encoding=encodig, sep=\";\", skiprows=0)\n",
    "\n",
    "cols_renamed = \"DC_NOME;SG_ESTADO;CD_SITUACAO;VL_LATITUDE;VL_LONGITUDE;VL_ALTITUDE;DT_INICIO_OPERACAO;CD_ESTACAO\"      \n",
    "cols_renamed = cols_renamed.lower().split(\";\")\n",
    "\n",
    "data.columns = cols_renamed\n",
    "\n",
    "print(\"Original columns types:\")\n",
    "print(data.dtypes)\n",
    "\n",
    "# conversão das colunas numéricas para valores numéricos\n",
    "# obs: usando pd.to_numeric pode ocasionar erros principalmente devido ao sinal de negativo\n",
    "for col in ['vl_latitude', 'vl_longitude', 'vl_altitude']:\n",
    "    data[col] = data[col].str.replace(',', '.').astype(float)\n",
    "\n",
    "# Conversão para o formato de data\n",
    "data['dt_inicio_operacao'] = pd.to_datetime(data['dt_inicio_operacao'], format='%d/%m/%Y')\n",
    "\n",
    "# validação, indicando quais colunas restaram e seus tipos, pós preprocessadas\n",
    "print(\"\\nPost processed columns types:\")\n",
    "print(data.dtypes)\n",
    "\n",
    "data.to_csv('info_stations/station_info_preprocessed.csv', index=False)"
   ]
  }
 ],
 "metadata": {
  "kernelspec": {
   "display_name": "base",
   "language": "python",
   "name": "python3"
  },
  "language_info": {
   "codemirror_mode": {
    "name": "ipython",
    "version": 3
   },
   "file_extension": ".py",
   "mimetype": "text/x-python",
   "name": "python",
   "nbconvert_exporter": "python",
   "pygments_lexer": "ipython3",
   "version": "3.10.13"
  }
 },
 "nbformat": 4,
 "nbformat_minor": 2
}
